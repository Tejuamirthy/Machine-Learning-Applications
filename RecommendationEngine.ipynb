{
 "cells": [
  {
   "cell_type": "code",
   "execution_count": 1,
   "metadata": {},
   "outputs": [],
   "source": [
    "import pandas as pd\n",
    "import numpy as np\n",
    "import seaborn as sns\n",
    "import matplotlib.pyplot as plt\n",
    "from sklearn.ensemble import RandomForestClassifier as rfc"
   ]
  },
  {
   "cell_type": "code",
   "execution_count": 171,
   "metadata": {},
   "outputs": [],
   "source": [
    "trainsub = pd.read_csv('train_submissions.csv')\n",
    "userdata = pd.read_csv('user_data.csv')\n",
    "problemdata = pd.read_csv('problem_data.csv')\n",
    "ts_ = trainsub\n",
    "ud_ = userdata\n",
    "pd_ = problemdata"
   ]
  },
  {
   "cell_type": "code",
   "execution_count": 172,
   "metadata": {},
   "outputs": [
    {
     "name": "stdout",
     "output_type": "stream",
     "text": [
      "<class 'pandas.core.frame.DataFrame'>\n",
      "RangeIndex: 155295 entries, 0 to 155294\n",
      "Data columns (total 3 columns):\n",
      "user_id           155295 non-null object\n",
      "problem_id        155295 non-null object\n",
      "attempts_range    155295 non-null int64\n",
      "dtypes: int64(1), object(2)\n",
      "memory usage: 3.6+ MB\n",
      "None\n",
      "<class 'pandas.core.frame.DataFrame'>\n",
      "RangeIndex: 3571 entries, 0 to 3570\n",
      "Data columns (total 11 columns):\n",
      "user_id                      3571 non-null object\n",
      "submission_count             3571 non-null int64\n",
      "problem_solved               3571 non-null int64\n",
      "contribution                 3571 non-null int64\n",
      "country                      2418 non-null object\n",
      "follower_count               3571 non-null int64\n",
      "last_online_time_seconds     3571 non-null int64\n",
      "max_rating                   3571 non-null float64\n",
      "rating                       3571 non-null float64\n",
      "rank                         3571 non-null object\n",
      "registration_time_seconds    3571 non-null int64\n",
      "dtypes: float64(2), int64(6), object(3)\n",
      "memory usage: 307.0+ KB\n",
      "None\n",
      "<class 'pandas.core.frame.DataFrame'>\n",
      "RangeIndex: 6544 entries, 0 to 6543\n",
      "Data columns (total 4 columns):\n",
      "problem_id    6544 non-null object\n",
      "level_type    6411 non-null object\n",
      "points        2627 non-null float64\n",
      "tags          3060 non-null object\n",
      "dtypes: float64(1), object(3)\n",
      "memory usage: 204.6+ KB\n",
      "None\n"
     ]
    }
   ],
   "source": [
    "print(ts_.info())\n",
    "print(ud_.info())\n",
    "print(pd_.info())"
   ]
  },
  {
   "cell_type": "code",
   "execution_count": 173,
   "metadata": {},
   "outputs": [
    {
     "name": "stdout",
     "output_type": "stream",
     "text": [
      "<class 'pandas.core.frame.DataFrame'>\n",
      "Int64Index: 155295 entries, 0 to 155294\n",
      "Data columns (total 16 columns):\n",
      "user_id                      155295 non-null object\n",
      "problem_id                   155295 non-null object\n",
      "attempts_range               155295 non-null int64\n",
      "submission_count             155295 non-null int64\n",
      "problem_solved               155295 non-null int64\n",
      "contribution                 155295 non-null int64\n",
      "country                      117442 non-null object\n",
      "follower_count               155295 non-null int64\n",
      "last_online_time_seconds     155295 non-null int64\n",
      "max_rating                   155295 non-null float64\n",
      "rating                       155295 non-null float64\n",
      "rank                         155295 non-null object\n",
      "registration_time_seconds    155295 non-null int64\n",
      "level_type                   154675 non-null object\n",
      "points                       126220 non-null float64\n",
      "tags                         139868 non-null object\n",
      "dtypes: float64(3), int64(7), object(6)\n",
      "memory usage: 20.1+ MB\n",
      "None\n",
      "     user_id problem_id  attempts_range  submission_count  problem_solved  \\\n",
      "0   user_232  prob_6507               1                53              47   \n",
      "1  user_1910  prob_6507               2               240             218   \n",
      "2  user_1824  prob_6507               2               370             336   \n",
      "3   user_895  prob_6507               1               318             286   \n",
      "4   user_779  prob_6507               1               463             410   \n",
      "\n",
      "   contribution     country  follower_count  last_online_time_seconds  \\\n",
      "0             0  Bangladesh               1                1503633778   \n",
      "1             0  Bangladesh              50                1505252563   \n",
      "2           -10       India              30                1505395587   \n",
      "3             0       Egypt              20                1505511056   \n",
      "4             0       India              39                1504799078   \n",
      "\n",
      "   max_rating   rating          rank  registration_time_seconds level_type  \\\n",
      "0     307.913  206.709      beginner                 1432110935          B   \n",
      "1     319.954  291.284      beginner                 1385471472          B   \n",
      "2     307.339  295.585      beginner                 1471685215          B   \n",
      "3     304.186  191.514      beginner                 1475529522          B   \n",
      "4     374.713  374.713  intermediate                 1437245990          B   \n",
      "\n",
      "   points     tags  \n",
      "0  1000.0  strings  \n",
      "1  1000.0  strings  \n",
      "2  1000.0  strings  \n",
      "3  1000.0  strings  \n",
      "4  1000.0  strings  \n"
     ]
    }
   ],
   "source": [
    "ts_= pd.merge(ts_,ud_,on=\"user_id\")\n",
    "ts_ = pd.merge(ts_,pd_,on='problem_id')\n",
    "print(ts_.info())\n",
    "print(ts_.head())"
   ]
  },
  {
   "cell_type": "code",
   "execution_count": 174,
   "metadata": {},
   "outputs": [],
   "source": [
    "def existence(x):\n",
    "    reg = x['registration_time_seconds']\n",
    "    last = x['last_online_time_seconds']\n",
    "    return last-reg\n",
    "ts_['existence_time'] = ts_[['registration_time_seconds','last_online_time_seconds']].apply(existence,axis=1)"
   ]
  },
  {
   "cell_type": "code",
   "execution_count": 183,
   "metadata": {},
   "outputs": [],
   "source": [
    "#ts_['country'] = pd.DataFrame(ts_['country']).fillna(ts_.country.mode()[0],axis=1)\n",
    "ts_['level_type']  = pd.DataFrame(ts_['level_type']).fillna(ts_.level_type.mode()[0],axis=1)\n",
    "ts_['points'] = pd.DataFrame(ts_['points']).fillna(ts_.points.mean(),axis=1)\n"
   ]
  },
  {
   "cell_type": "code",
   "execution_count": 185,
   "metadata": {},
   "outputs": [
    {
     "data": {
      "text/plain": [
       "user_id                      False\n",
       "problem_id                   False\n",
       "attempts_range               False\n",
       "submission_count             False\n",
       "problem_solved               False\n",
       "contribution                 False\n",
       "follower_count               False\n",
       "last_online_time_seconds     False\n",
       "max_rating                   False\n",
       "rating                       False\n",
       "rank                         False\n",
       "registration_time_seconds    False\n",
       "level_type                   False\n",
       "points                       False\n",
       "existence_time               False\n",
       "dtype: bool"
      ]
     },
     "execution_count": 185,
     "metadata": {},
     "output_type": "execute_result"
    }
   ],
   "source": [
    "#handling missing values\n",
    "ts_.drop(['country','tags'],inplace=True,axis=1)\n",
    "#ts_.dropna(inplace=True)\n",
    "ts_.isna().any()"
   ]
  },
  {
   "cell_type": "code",
   "execution_count": 6,
   "metadata": {},
   "outputs": [
    {
     "name": "stdout",
     "output_type": "stream",
     "text": [
      "<class 'pandas.core.frame.DataFrame'>\n",
      "Int64Index: 126014 entries, 0 to 155294\n",
      "Data columns (total 11 columns):\n",
      "user_id             126014 non-null object\n",
      "problem_id          126014 non-null object\n",
      "attempts_range      126014 non-null int64\n",
      "submission_count    126014 non-null int64\n",
      "problem_solved      126014 non-null int64\n",
      "contribution        126014 non-null int64\n",
      "follower_count      126014 non-null int64\n",
      "rating              126014 non-null float64\n",
      "rank                126014 non-null object\n",
      "level_type          126014 non-null object\n",
      "points              126014 non-null float64\n",
      "dtypes: float64(2), int64(5), object(4)\n",
      "memory usage: 11.5+ MB\n",
      "None\n",
      "     user_id problem_id  attempts_range  submission_count  problem_solved  \\\n",
      "0   user_232  prob_6507               1                53              47   \n",
      "1  user_1910  prob_6507               2               240             218   \n",
      "2  user_1824  prob_6507               2               370             336   \n",
      "3   user_895  prob_6507               1               318             286   \n",
      "4   user_779  prob_6507               1               463             410   \n",
      "\n",
      "   contribution  follower_count   rating          rank level_type  points  \n",
      "0             0               1  206.709      beginner          B  1000.0  \n",
      "1             0              50  291.284      beginner          B  1000.0  \n",
      "2           -10              30  295.585      beginner          B  1000.0  \n",
      "3             0              20  191.514      beginner          B  1000.0  \n",
      "4             0              39  374.713  intermediate          B  1000.0  \n"
     ]
    }
   ],
   "source": [
    "print(ts_.info())\n",
    "print(ts_.head())"
   ]
  },
  {
   "cell_type": "code",
   "execution_count": 7,
   "metadata": {},
   "outputs": [],
   "source": [
    "%matplotlib inline\n",
    "#ts_[['submission_count','problem_solved','attempts_range']]"
   ]
  },
  {
   "cell_type": "code",
   "execution_count": 14,
   "metadata": {},
   "outputs": [],
   "source": [
    "num_attempts = ts_['submission_count']/(ts_['submission_count']-ts_['problem_solved'])"
   ]
  },
  {
   "cell_type": "code",
   "execution_count": 18,
   "metadata": {},
   "outputs": [
    {
     "data": {
      "text/plain": [
       "<seaborn.axisgrid.FacetGrid at 0x20389059198>"
      ]
     },
     "execution_count": 18,
     "metadata": {},
     "output_type": "execute_result"
    },
    {
     "data": {
      "image/png": "[encoded data removed]",
      "text/plain": [
       "<matplotlib.figure.Figure at 0x203890593c8>"
      ]
     },
     "metadata": {},
     "output_type": "display_data"
    }
   ],
   "source": [
    "sns.lmplot('submission_count','problem_solved',data=ts_,hue='attempts_range')"
   ]
  },
  {
   "cell_type": "code",
   "execution_count": 377,
   "metadata": {},
   "outputs": [],
   "source": [
    "from sklearn.model_selection import train_test_split\n",
    "\n",
    "X_train,X_test,y_train,y_test  = train_test_split(ts_.iloc[:,3:],ts_['attempts_range'],test_size=0.2,random_state = 135)"
   ]
  },
  {
   "cell_type": "code",
   "execution_count": 142,
   "metadata": {},
   "outputs": [],
   "source": [
    "from sklearn.model_selection import train_test_split\n",
    "\n",
    "X_train1,X_test1,y_train1,y_test1  = train_test_split(ts_.iloc[:,3:],ts_['attempts_range'],test_size=0.2,random_state = 25)"
   ]
  },
  {
   "cell_type": "code",
   "execution_count": 378,
   "metadata": {},
   "outputs": [],
   "source": [
    "def problems(x):\n",
    "    count = x['submission_count']\n",
    "    sol = x['problem_solved']\n",
    "    return count-sol\n",
    "\n",
    "X_train['subsolve'] = X_train.apply(problems,axis=1)\n",
    "X_test['subsolve'] = X_test.apply(problems,axis = 1)"
   ]
  },
  {
   "cell_type": "code",
   "execution_count": 379,
   "metadata": {},
   "outputs": [
    {
     "name": "stdout",
     "output_type": "stream",
     "text": [
      "<class 'pandas.core.frame.DataFrame'>\n",
      "Int64Index: 124236 entries, 10325 to 55967\n",
      "Data columns (total 13 columns):\n",
      "submission_count             124236 non-null int64\n",
      "problem_solved               124236 non-null int64\n",
      "contribution                 124236 non-null int64\n",
      "follower_count               124236 non-null int64\n",
      "last_online_time_seconds     124236 non-null int64\n",
      "max_rating                   124236 non-null float64\n",
      "rating                       124236 non-null float64\n",
      "rank                         124236 non-null object\n",
      "registration_time_seconds    124236 non-null int64\n",
      "level_type                   124236 non-null object\n",
      "points                       124236 non-null float64\n",
      "existence_time               124236 non-null int64\n",
      "subsolve                     124236 non-null int64\n",
      "dtypes: float64(3), int64(8), object(2)\n",
      "memory usage: 13.3+ MB\n"
     ]
    }
   ],
   "source": [
    "X_train.info()"
   ]
  },
  {
   "cell_type": "code",
   "execution_count": 380,
   "metadata": {},
   "outputs": [],
   "source": [
    "test_data = pd.read_csv('test_submissions.csv')\n",
    "test = test_data\n",
    "test = test.merge(pd_,on='problem_id')\n",
    "test = test.merge(ud_,on='user_id')\n",
    "test['existence_time'] = test.apply(existence,axis=1)\n",
    "test['points']=pd.DataFrame(test['points']).fillna(test.points.mean(),axis=1)\n",
    "test['level_type'] = pd.DataFrame(test['level_type']).fillna(test.level_type.mode()[0],axis=1)\n",
    "test['subsolve'] = test.apply(problems,axis=1)"
   ]
  },
  {
   "cell_type": "code",
   "execution_count": 381,
   "metadata": {},
   "outputs": [],
   "source": [
    "from sklearn.preprocessing import LabelEncoder\n",
    "le = LabelEncoder()\n",
    "\n",
    "X_train['level_type'] = le.fit_transform(X_train['level_type'])\n",
    "X_test['level_type'] = le.transform(X_test['level_type'])\n",
    "test['level_type'] = le.transform(test['level_type'])\n",
    "\n",
    "\n",
    "\n",
    "X_train['rank'] = le.fit_transform(X_train['rank'])\n",
    "X_test['rank'] = le.transform(X_test['rank'])\n",
    "test['rank'] = le.transform(test['rank'])\n",
    "\n",
    "X_train.drop(['last_online_time_seconds','submission_count'],axis=1,inplace=True)\n",
    "X_test.drop(['last_online_time_seconds','submission_count'],axis=1,inplace=True)"
   ]
  },
  {
   "cell_type": "code",
   "execution_count": 372,
   "metadata": {},
   "outputs": [],
   "source": [
    "from sklearn.preprocessing import MinMaxScaler as MM\n",
    "mm = MM()\n",
    "\n",
    "X_train = mm.fit_transform(X_train.iloc[:,X_train.columns!='existence_time'])\n",
    "X_test = mm.transform(X_test.iloc[:,X_test.columns!='existence_time'])\n",
    "modtest = mm.transform(test[['submission_count', 'problem_solved', 'contribution', 'follower_count',\n",
    "       'last_online_time_seconds', 'max_rating', 'rating', 'rank',\n",
    "       'registration_time_seconds', 'level_type', 'points']])\n"
   ]
  },
  {
   "cell_type": "code",
   "execution_count": 375,
   "metadata": {},
   "outputs": [],
   "source": [
    "from xgboost import XGBClassifier as XGB\n",
    "\n",
    "xgb = XGB(min_child_weight = 3, n_estimators = 300,learning_rate = 0.8).fit(X_train,y_train)"
   ]
  },
  {
   "cell_type": "code",
   "execution_count": 349,
   "metadata": {},
   "outputs": [
    {
     "name": "stderr",
     "output_type": "stream",
     "text": [
      "C:\\Users\\Teju\\Anaconda3\\lib\\site-packages\\sklearn\\preprocessing\\label.py:151: DeprecationWarning: The truth value of an empty array is ambiguous. Returning False, but in future this will result in an error. Use `array.size > 0` to check that an array is not empty.\n",
      "  if diff:\n"
     ]
    }
   ],
   "source": [
    "kk = xgb.predict(test[['submission_count', 'problem_solved', 'contribution', 'follower_count',\n",
    "       'last_online_time_seconds', 'max_rating', 'rating', 'rank',\n",
    "       'registration_time_seconds', 'level_type', 'points']])"
   ]
  },
  {
   "cell_type": "code",
   "execution_count": 376,
   "metadata": {},
   "outputs": [
    {
     "name": "stderr",
     "output_type": "stream",
     "text": [
      "C:\\Users\\Teju\\Anaconda3\\lib\\site-packages\\sklearn\\preprocessing\\label.py:151: DeprecationWarning: The truth value of an empty array is ambiguous. Returning False, but in future this will result in an error. Use `array.size > 0` to check that an array is not empty.\n",
      "  if diff:\n"
     ]
    },
    {
     "data": {
      "text/plain": [
       "0.43452333501321555"
      ]
     },
     "execution_count": 376,
     "metadata": {},
     "output_type": "execute_result"
    }
   ],
   "source": [
    "f1_score(y_test,xgb.predict(X_test),average ='weighted')"
   ]
  },
  {
   "cell_type": "code",
   "execution_count": 144,
   "metadata": {},
   "outputs": [],
   "source": [
    "#one hot encoding\n",
    "dummies_level_train = pd.get_dummies(X_train1['level_type'])\n",
    "dummies_level_test = pd.get_dummies(X_test1['level_type'])\n",
    "\n",
    "dummies_rank_train = pd.get_dummies(X_train1['rank'])\n",
    "dummies_rank_test = pd.get_dummies(X_test1['rank'])\n",
    "\n",
    "X_train1 = pd.concat([X_train1,dummies_level_train,dummies_rank_train],axis=1)\n",
    "X_test1 = pd.concat([X_test1,dummies_level_test,dummies_rank_test],axis=1)\n",
    "\n",
    "X_train1.drop(['rank','level_type'],axis=1,inplace=True)\n",
    "X_test1.drop(['rank','level_type'],axis=1,inplace=True)"
   ]
  },
  {
   "cell_type": "code",
   "execution_count": 167,
   "metadata": {},
   "outputs": [],
   "source": [
    "from sklearn.preprocessing import MinMaxScaler as MM\n",
    "mm = MM()\n",
    "X_train1[['submission_count', 'problem_solved', 'contribution', 'follower_count',\n",
    "       'max_rating', 'rating', 'points', 'existence_time', 'A', 'B', 'C', 'D',\n",
    "       'E', 'F', 'G', 'H', 'advanced', 'beginner', 'expert', 'intermediate']] = mm.fit_transform(X_train1[['submission_count', 'problem_solved', 'contribution', 'follower_count',\n",
    "       'max_rating', 'rating', 'points', 'existence_time', 'A', 'B', 'C', 'D',\n",
    "       'E', 'F', 'G', 'H', 'advanced', 'beginner', 'expert', 'intermediate']])\n",
    "test[['submission_count', 'problem_solved', 'contribution', 'follower_count',\n",
    "       'max_rating', 'rating', 'points', 'existence_time', 'A', 'B', 'C', 'D',\n",
    "       'E', 'F', 'G', 'H', 'advanced', 'beginner', 'expert', 'intermediate']] = mm.transform(test[['submission_count', 'problem_solved', 'contribution', 'follower_count',\n",
    "       'max_rating', 'rating', 'points', 'existence_time', 'A', 'B', 'C', 'D',\n",
    "       'E', 'F', 'G', 'H', 'advanced', 'beginner', 'expert', 'intermediate']])\n",
    "\n"
   ]
  },
  {
   "cell_type": "code",
   "execution_count": 301,
   "metadata": {},
   "outputs": [
    {
     "data": {
      "text/plain": [
       "Index(['submission_count', 'problem_solved', 'contribution', 'follower_count',\n",
       "       'last_online_time_seconds', 'max_rating', 'rating', 'rank',\n",
       "       'registration_time_seconds', 'level_type', 'points', 'existence_time'],\n",
       "      dtype='object')"
      ]
     },
     "execution_count": 301,
     "metadata": {},
     "output_type": "execute_result"
    }
   ],
   "source": [
    "X_train.columns"
   ]
  },
  {
   "cell_type": "code",
   "execution_count": 382,
   "metadata": {},
   "outputs": [],
   "source": [
    "rf25 = rfc().fit(X_train,y_train)"
   ]
  },
  {
   "cell_type": "code",
   "execution_count": 389,
   "metadata": {},
   "outputs": [
    {
     "data": {
      "text/plain": [
       "GridSearchCV(cv=None, error_score='raise',\n",
       "       estimator=RandomForestClassifier(bootstrap=True, class_weight=None, criterion='gini',\n",
       "            max_depth=None, max_features='auto', max_leaf_nodes=None,\n",
       "            min_impurity_decrease=0.0, min_impurity_split=None,\n",
       "            min_samples_leaf=1, min_samples_split=2,\n",
       "            min_weight_fraction_leaf=0.0, n_estimators=10, n_jobs=1,\n",
       "            oob_score=False, random_state=None, verbose=0,\n",
       "            warm_start=False),\n",
       "       fit_params=None, iid=True, n_jobs=-1,\n",
       "       param_grid={'min_samples_split': [3, 4, 5], 'n_estimators': [100, 200, 300]},\n",
       "       pre_dispatch='2*n_jobs', refit=True, return_train_score='warn',\n",
       "       scoring=None, verbose=0)"
      ]
     },
     "execution_count": 389,
     "metadata": {},
     "output_type": "execute_result"
    }
   ],
   "source": [
    "from sklearn.model_selection import GridSearchCV\n",
    "\n",
    "\n",
    "gridrf  = GridSearchCV(rfc(),{'min_samples_split' :[3,4,5] ,'n_estimators' :[100,200,300]},n_jobs=-1)\n",
    "gridrf.fit(X_train,y_train)\n",
    "\n",
    "#gridc = GridSearchCV(rfc(), {'n_estimators':[10,20,30],'max_depth':[3,5,7]},n_jobs=1)\n",
    "#gridc.fit(X_train,y_train)"
   ]
  },
  {
   "cell_type": "code",
   "execution_count": 390,
   "metadata": {},
   "outputs": [
    {
     "data": {
      "text/plain": [
       "0.445552734916021"
      ]
     },
     "execution_count": 390,
     "metadata": {},
     "output_type": "execute_result"
    }
   ],
   "source": [
    "from sklearn.metrics import confusion_matrix as cm,accuracy_score as acs,f1_score\n",
    "ypred2 = gridrf.predict(X_test)\n",
    "f1_score(y_test,ypred2,average = 'weighted')\n"
   ]
  },
  {
   "cell_type": "code",
   "execution_count": 393,
   "metadata": {},
   "outputs": [
    {
     "data": {
      "text/plain": [
       "RandomForestClassifier(bootstrap=True, class_weight=None, criterion='gini',\n",
       "            max_depth=None, max_features='auto', max_leaf_nodes=None,\n",
       "            min_impurity_decrease=0.0, min_impurity_split=None,\n",
       "            min_samples_leaf=1, min_samples_split=5,\n",
       "            min_weight_fraction_leaf=0.0, n_estimators=300, n_jobs=1,\n",
       "            oob_score=False, random_state=None, verbose=0,\n",
       "            warm_start=False)"
      ]
     },
     "execution_count": 393,
     "metadata": {},
     "output_type": "execute_result"
    }
   ],
   "source": [
    "gridrf.best_estimator_"
   ]
  },
  {
   "cell_type": "code",
   "execution_count": 391,
   "metadata": {},
   "outputs": [],
   "source": [
    "krfc = rf25.predict(test[['problem_solved', 'contribution', 'follower_count', 'max_rating',\n",
    "       'rating', 'rank', 'registration_time_seconds', 'level_type', 'points',\n",
    "       'existence_time', 'subsolve']])"
   ]
  },
  {
   "cell_type": "code",
   "execution_count": 250,
   "metadata": {},
   "outputs": [],
   "source": []
  },
  {
   "cell_type": "code",
   "execution_count": 313,
   "metadata": {},
   "outputs": [
    {
     "data": {
      "text/plain": [
       "ID                           False\n",
       "user_id                      False\n",
       "problem_id                   False\n",
       "level_type                   False\n",
       "points                       False\n",
       "tags                          True\n",
       "submission_count             False\n",
       "problem_solved               False\n",
       "contribution                 False\n",
       "country                       True\n",
       "follower_count               False\n",
       "last_online_time_seconds     False\n",
       "max_rating                   False\n",
       "rating                       False\n",
       "rank                         False\n",
       "registration_time_seconds    False\n",
       "existence_time               False\n",
       "dtype: bool"
      ]
     },
     "execution_count": 313,
     "metadata": {},
     "output_type": "execute_result"
    }
   ],
   "source": [
    "test.isna().any()"
   ]
  },
  {
   "cell_type": "code",
   "execution_count": 220,
   "metadata": {},
   "outputs": [],
   "source": []
  },
  {
   "cell_type": "code",
   "execution_count": 254,
   "metadata": {},
   "outputs": [],
   "source": []
  },
  {
   "cell_type": "code",
   "execution_count": 253,
   "metadata": {},
   "outputs": [],
   "source": []
  },
  {
   "cell_type": "code",
   "execution_count": 252,
   "metadata": {},
   "outputs": [],
   "source": []
  },
  {
   "cell_type": "code",
   "execution_count": 218,
   "metadata": {},
   "outputs": [
    {
     "data": {
      "text/plain": [
       "False    66555\n",
       "Name: level_type, dtype: int64"
      ]
     },
     "execution_count": 218,
     "metadata": {},
     "output_type": "execute_result"
    }
   ],
   "source": [
    "test['level_type'].isna().value_counts()"
   ]
  },
  {
   "cell_type": "code",
   "execution_count": 162,
   "metadata": {},
   "outputs": [],
   "source": [
    "test = pd.concat([test,pd.get_dummies(test['level_type']),pd.get_dummies(test['rank'])],axis=1)"
   ]
  },
  {
   "cell_type": "code",
   "execution_count": 227,
   "metadata": {},
   "outputs": [],
   "source": [
    "\n",
    "#check above for knowing how to get test's rank and level type label encoded\n",
    "#test.drop(['level_type','rank'],axis=1,inplace=True)"
   ]
  },
  {
   "cell_type": "code",
   "execution_count": 106,
   "metadata": {},
   "outputs": [
    {
     "data": {
      "text/plain": [
       "1    63297\n",
       "2     3250\n",
       "3        7\n",
       "4        1\n",
       "Name: 0, dtype: int64"
      ]
     },
     "execution_count": 106,
     "metadata": {},
     "output_type": "execute_result"
    }
   ],
   "source": [
    "pd.DataFrame(rf15.predict(test[['submission_count', 'problem_solved', 'contribution', 'follower_count',\n",
    "       'rating', 'points', 'A', 'B', 'C', 'D', 'E', 'F', 'G', 'H', 'advanced',\n",
    "       'beginner', 'expert', 'intermediate']])).iloc[:,0].value_counts()"
   ]
  },
  {
   "cell_type": "code",
   "execution_count": 107,
   "metadata": {},
   "outputs": [],
   "source": [
    "test[['submission_count', 'problem_solved', 'contribution', 'follower_count',\n",
    "       'rating', 'points', 'A', 'B', 'C', 'D', 'E', 'F', 'G', 'H', 'advanced',\n",
    "       'beginner', 'expert', 'intermediate']] = mm.transform(test[['submission_count', 'problem_solved', 'contribution', 'follower_count',\n",
    "       'rating', 'points', 'A', 'B', 'C', 'D', 'E', 'F', 'G', 'H', 'advanced',\n",
    "       'beginner', 'expert', 'intermediate']])"
   ]
  },
  {
   "cell_type": "code",
   "execution_count": 108,
   "metadata": {},
   "outputs": [
    {
     "data": {
      "text/plain": [
       "array([1, 1, 1, ..., 1, 1, 1], dtype=int64)"
      ]
     },
     "execution_count": 108,
     "metadata": {},
     "output_type": "execute_result"
    }
   ],
   "source": [
    "mlp.predict(test[['submission_count', 'problem_solved', 'contribution', 'follower_count',\n",
    "       'rating', 'points', 'A', 'B', 'C', 'D', 'E', 'F', 'G', 'H', 'advanced',\n",
    "       'beginner', 'expert', 'intermediate']])"
   ]
  },
  {
   "cell_type": "code",
   "execution_count": 109,
   "metadata": {},
   "outputs": [
    {
     "data": {
      "text/plain": [
       "1    64168\n",
       "2     2387\n",
       "Name: 0, dtype: int64"
      ]
     },
     "execution_count": 109,
     "metadata": {},
     "output_type": "execute_result"
    }
   ],
   "source": [
    "pd.DataFrame(mlp.predict(test[['submission_count', 'problem_solved', 'contribution', 'follower_count',\n",
    "       'rating', 'points', 'A', 'B', 'C', 'D', 'E', 'F', 'G', 'H', 'advanced',\n",
    "       'beginner', 'expert', 'intermediate']])).iloc[:,0].value_counts()"
   ]
  },
  {
   "cell_type": "code",
   "execution_count": 113,
   "metadata": {},
   "outputs": [],
   "source": [
    "samplesub = pd.read_csv('sample_submission.csv')"
   ]
  },
  {
   "cell_type": "code",
   "execution_count": 169,
   "metadata": {},
   "outputs": [],
   "source": [
    "samplesub['ID'] = test_data['ID']\n",
    "samplesub['attempts_range'] = rf100.predict(test[['submission_count', 'problem_solved', 'contribution', 'follower_count',\n",
    "       'max_rating', 'rating', 'points', 'existence_time', 'A', 'B', 'C', 'D',\n",
    "       'E', 'F', 'G', 'H', 'advanced', 'beginner', 'expert', 'intermediate']])"
   ]
  },
  {
   "cell_type": "code",
   "execution_count": 170,
   "metadata": {},
   "outputs": [],
   "source": [
    "samplesub.to_csv('mysub2.csv',index=False)"
   ]
  },
  {
   "cell_type": "code",
   "execution_count": 221,
   "metadata": {},
   "outputs": [
    {
     "data": {
      "text/plain": [
       "Index(['submission_count', 'problem_solved', 'contribution', 'follower_count',\n",
       "       'max_rating', 'rating', 'rank', 'registration_time_seconds',\n",
       "       'level_type', 'points', 'existence_time'],\n",
       "      dtype='object')"
      ]
     },
     "execution_count": 221,
     "metadata": {},
     "output_type": "execute_result"
    }
   ],
   "source": [
    "X_test.columns"
   ]
  },
  {
   "cell_type": "code",
   "execution_count": 394,
   "metadata": {},
   "outputs": [],
   "source": [
    "newsb = pd.DataFrame({'ID': samplesub['ID'],'attempts_range': krfc})"
   ]
  },
  {
   "cell_type": "code",
   "execution_count": 395,
   "metadata": {},
   "outputs": [],
   "source": [
    "newsb.to_csv('newna.csv',index = False)"
   ]
  },
  {
   "cell_type": "code",
   "execution_count": 133,
   "metadata": {},
   "outputs": [
    {
     "data": {
      "text/html": [
       "<div>\n",
       "<style scoped>\n",
       "    .dataframe tbody tr th:only-of-type {\n",
       "        vertical-align: middle;\n",
       "    }\n",
       "\n",
       "    .dataframe tbody tr th {\n",
       "        vertical-align: top;\n",
       "    }\n",
       "\n",
       "    .dataframe thead th {\n",
       "        text-align: right;\n",
       "    }\n",
       "</style>\n",
       "<table border=\"1\" class=\"dataframe\">\n",
       "  <thead>\n",
       "    <tr style=\"text-align: right;\">\n",
       "      <th></th>\n",
       "      <th>ID</th>\n",
       "      <th>attempts_range</th>\n",
       "    </tr>\n",
       "  </thead>\n",
       "  <tbody>\n",
       "    <tr>\n",
       "      <th>0</th>\n",
       "      <td>user_856_prob_5822</td>\n",
       "      <td>1</td>\n",
       "    </tr>\n",
       "    <tr>\n",
       "      <th>1</th>\n",
       "      <td>user_2642_prob_2334</td>\n",
       "      <td>1</td>\n",
       "    </tr>\n",
       "    <tr>\n",
       "      <th>2</th>\n",
       "      <td>user_2557_prob_2920</td>\n",
       "      <td>1</td>\n",
       "    </tr>\n",
       "    <tr>\n",
       "      <th>3</th>\n",
       "      <td>user_1572_prob_4598</td>\n",
       "      <td>1</td>\n",
       "    </tr>\n",
       "    <tr>\n",
       "      <th>4</th>\n",
       "      <td>user_295_prob_6139</td>\n",
       "      <td>1</td>\n",
       "    </tr>\n",
       "    <tr>\n",
       "      <th>5</th>\n",
       "      <td>user_1202_prob_6253</td>\n",
       "      <td>1</td>\n",
       "    </tr>\n",
       "    <tr>\n",
       "      <th>6</th>\n",
       "      <td>user_1017_prob_2630</td>\n",
       "      <td>1</td>\n",
       "    </tr>\n",
       "    <tr>\n",
       "      <th>7</th>\n",
       "      <td>user_2907_prob_6360</td>\n",
       "      <td>1</td>\n",
       "    </tr>\n",
       "    <tr>\n",
       "      <th>8</th>\n",
       "      <td>user_3473_prob_4350</td>\n",
       "      <td>1</td>\n",
       "    </tr>\n",
       "    <tr>\n",
       "      <th>9</th>\n",
       "      <td>user_401_prob_1966</td>\n",
       "      <td>1</td>\n",
       "    </tr>\n",
       "    <tr>\n",
       "      <th>10</th>\n",
       "      <td>user_689_prob_791</td>\n",
       "      <td>1</td>\n",
       "    </tr>\n",
       "    <tr>\n",
       "      <th>11</th>\n",
       "      <td>user_285_prob_5518</td>\n",
       "      <td>1</td>\n",
       "    </tr>\n",
       "    <tr>\n",
       "      <th>12</th>\n",
       "      <td>user_367_prob_4425</td>\n",
       "      <td>1</td>\n",
       "    </tr>\n",
       "    <tr>\n",
       "      <th>13</th>\n",
       "      <td>user_1580_prob_1728</td>\n",
       "      <td>1</td>\n",
       "    </tr>\n",
       "    <tr>\n",
       "      <th>14</th>\n",
       "      <td>user_1562_prob_6500</td>\n",
       "      <td>1</td>\n",
       "    </tr>\n",
       "    <tr>\n",
       "      <th>15</th>\n",
       "      <td>user_2464_prob_2429</td>\n",
       "      <td>1</td>\n",
       "    </tr>\n",
       "    <tr>\n",
       "      <th>16</th>\n",
       "      <td>user_3519_prob_4971</td>\n",
       "      <td>1</td>\n",
       "    </tr>\n",
       "    <tr>\n",
       "      <th>17</th>\n",
       "      <td>user_1620_prob_2998</td>\n",
       "      <td>1</td>\n",
       "    </tr>\n",
       "    <tr>\n",
       "      <th>18</th>\n",
       "      <td>user_1207_prob_3335</td>\n",
       "      <td>1</td>\n",
       "    </tr>\n",
       "    <tr>\n",
       "      <th>19</th>\n",
       "      <td>user_792_prob_6173</td>\n",
       "      <td>1</td>\n",
       "    </tr>\n",
       "    <tr>\n",
       "      <th>20</th>\n",
       "      <td>user_3380_prob_51</td>\n",
       "      <td>1</td>\n",
       "    </tr>\n",
       "    <tr>\n",
       "      <th>21</th>\n",
       "      <td>user_1160_prob_5804</td>\n",
       "      <td>1</td>\n",
       "    </tr>\n",
       "    <tr>\n",
       "      <th>22</th>\n",
       "      <td>user_2860_prob_5661</td>\n",
       "      <td>1</td>\n",
       "    </tr>\n",
       "    <tr>\n",
       "      <th>23</th>\n",
       "      <td>user_1086_prob_4967</td>\n",
       "      <td>1</td>\n",
       "    </tr>\n",
       "    <tr>\n",
       "      <th>24</th>\n",
       "      <td>user_1356_prob_3508</td>\n",
       "      <td>1</td>\n",
       "    </tr>\n",
       "    <tr>\n",
       "      <th>25</th>\n",
       "      <td>user_344_prob_5186</td>\n",
       "      <td>1</td>\n",
       "    </tr>\n",
       "    <tr>\n",
       "      <th>26</th>\n",
       "      <td>user_3166_prob_574</td>\n",
       "      <td>1</td>\n",
       "    </tr>\n",
       "    <tr>\n",
       "      <th>27</th>\n",
       "      <td>user_1559_prob_767</td>\n",
       "      <td>1</td>\n",
       "    </tr>\n",
       "    <tr>\n",
       "      <th>28</th>\n",
       "      <td>user_56_prob_2872</td>\n",
       "      <td>1</td>\n",
       "    </tr>\n",
       "    <tr>\n",
       "      <th>29</th>\n",
       "      <td>user_1691_prob_5781</td>\n",
       "      <td>1</td>\n",
       "    </tr>\n",
       "    <tr>\n",
       "      <th>...</th>\n",
       "      <td>...</td>\n",
       "      <td>...</td>\n",
       "    </tr>\n",
       "    <tr>\n",
       "      <th>66525</th>\n",
       "      <td>user_2183_prob_4979</td>\n",
       "      <td>2</td>\n",
       "    </tr>\n",
       "    <tr>\n",
       "      <th>66526</th>\n",
       "      <td>user_1279_prob_3204</td>\n",
       "      <td>2</td>\n",
       "    </tr>\n",
       "    <tr>\n",
       "      <th>66527</th>\n",
       "      <td>user_1959_prob_5555</td>\n",
       "      <td>1</td>\n",
       "    </tr>\n",
       "    <tr>\n",
       "      <th>66528</th>\n",
       "      <td>user_362_prob_3413</td>\n",
       "      <td>2</td>\n",
       "    </tr>\n",
       "    <tr>\n",
       "      <th>66529</th>\n",
       "      <td>user_1377_prob_6368</td>\n",
       "      <td>1</td>\n",
       "    </tr>\n",
       "    <tr>\n",
       "      <th>66530</th>\n",
       "      <td>user_913_prob_6321</td>\n",
       "      <td>1</td>\n",
       "    </tr>\n",
       "    <tr>\n",
       "      <th>66531</th>\n",
       "      <td>user_2944_prob_3647</td>\n",
       "      <td>2</td>\n",
       "    </tr>\n",
       "    <tr>\n",
       "      <th>66532</th>\n",
       "      <td>user_1756_prob_612</td>\n",
       "      <td>1</td>\n",
       "    </tr>\n",
       "    <tr>\n",
       "      <th>66533</th>\n",
       "      <td>user_3005_prob_1431</td>\n",
       "      <td>1</td>\n",
       "    </tr>\n",
       "    <tr>\n",
       "      <th>66534</th>\n",
       "      <td>user_2602_prob_4672</td>\n",
       "      <td>1</td>\n",
       "    </tr>\n",
       "    <tr>\n",
       "      <th>66535</th>\n",
       "      <td>user_394_prob_6304</td>\n",
       "      <td>1</td>\n",
       "    </tr>\n",
       "    <tr>\n",
       "      <th>66536</th>\n",
       "      <td>user_519_prob_4125</td>\n",
       "      <td>1</td>\n",
       "    </tr>\n",
       "    <tr>\n",
       "      <th>66537</th>\n",
       "      <td>user_3033_prob_4425</td>\n",
       "      <td>1</td>\n",
       "    </tr>\n",
       "    <tr>\n",
       "      <th>66538</th>\n",
       "      <td>user_764_prob_1534</td>\n",
       "      <td>1</td>\n",
       "    </tr>\n",
       "    <tr>\n",
       "      <th>66539</th>\n",
       "      <td>user_196_prob_32</td>\n",
       "      <td>1</td>\n",
       "    </tr>\n",
       "    <tr>\n",
       "      <th>66540</th>\n",
       "      <td>user_238_prob_2754</td>\n",
       "      <td>1</td>\n",
       "    </tr>\n",
       "    <tr>\n",
       "      <th>66541</th>\n",
       "      <td>user_926_prob_5642</td>\n",
       "      <td>1</td>\n",
       "    </tr>\n",
       "    <tr>\n",
       "      <th>66542</th>\n",
       "      <td>user_2032_prob_4060</td>\n",
       "      <td>1</td>\n",
       "    </tr>\n",
       "    <tr>\n",
       "      <th>66543</th>\n",
       "      <td>user_2008_prob_3935</td>\n",
       "      <td>1</td>\n",
       "    </tr>\n",
       "    <tr>\n",
       "      <th>66544</th>\n",
       "      <td>user_705_prob_5206</td>\n",
       "      <td>1</td>\n",
       "    </tr>\n",
       "    <tr>\n",
       "      <th>66545</th>\n",
       "      <td>user_1974_prob_3847</td>\n",
       "      <td>1</td>\n",
       "    </tr>\n",
       "    <tr>\n",
       "      <th>66546</th>\n",
       "      <td>user_2650_prob_2461</td>\n",
       "      <td>1</td>\n",
       "    </tr>\n",
       "    <tr>\n",
       "      <th>66547</th>\n",
       "      <td>user_3549_prob_2494</td>\n",
       "      <td>1</td>\n",
       "    </tr>\n",
       "    <tr>\n",
       "      <th>66548</th>\n",
       "      <td>user_1090_prob_4132</td>\n",
       "      <td>1</td>\n",
       "    </tr>\n",
       "    <tr>\n",
       "      <th>66549</th>\n",
       "      <td>user_315_prob_5406</td>\n",
       "      <td>1</td>\n",
       "    </tr>\n",
       "    <tr>\n",
       "      <th>66550</th>\n",
       "      <td>user_1551_prob_2949</td>\n",
       "      <td>1</td>\n",
       "    </tr>\n",
       "    <tr>\n",
       "      <th>66551</th>\n",
       "      <td>user_2617_prob_6266</td>\n",
       "      <td>1</td>\n",
       "    </tr>\n",
       "    <tr>\n",
       "      <th>66552</th>\n",
       "      <td>user_799_prob_1800</td>\n",
       "      <td>1</td>\n",
       "    </tr>\n",
       "    <tr>\n",
       "      <th>66553</th>\n",
       "      <td>user_1265_prob_137</td>\n",
       "      <td>1</td>\n",
       "    </tr>\n",
       "    <tr>\n",
       "      <th>66554</th>\n",
       "      <td>user_474_prob_6497</td>\n",
       "      <td>1</td>\n",
       "    </tr>\n",
       "  </tbody>\n",
       "</table>\n",
       "<p>66555 rows × 2 columns</p>\n",
       "</div>"
      ],
      "text/plain": [
       "                        ID  attempts_range\n",
       "0       user_856_prob_5822               1\n",
       "1      user_2642_prob_2334               1\n",
       "2      user_2557_prob_2920               1\n",
       "3      user_1572_prob_4598               1\n",
       "4       user_295_prob_6139               1\n",
       "5      user_1202_prob_6253               1\n",
       "6      user_1017_prob_2630               1\n",
       "7      user_2907_prob_6360               1\n",
       "8      user_3473_prob_4350               1\n",
       "9       user_401_prob_1966               1\n",
       "10       user_689_prob_791               1\n",
       "11      user_285_prob_5518               1\n",
       "12      user_367_prob_4425               1\n",
       "13     user_1580_prob_1728               1\n",
       "14     user_1562_prob_6500               1\n",
       "15     user_2464_prob_2429               1\n",
       "16     user_3519_prob_4971               1\n",
       "17     user_1620_prob_2998               1\n",
       "18     user_1207_prob_3335               1\n",
       "19      user_792_prob_6173               1\n",
       "20       user_3380_prob_51               1\n",
       "21     user_1160_prob_5804               1\n",
       "22     user_2860_prob_5661               1\n",
       "23     user_1086_prob_4967               1\n",
       "24     user_1356_prob_3508               1\n",
       "25      user_344_prob_5186               1\n",
       "26      user_3166_prob_574               1\n",
       "27      user_1559_prob_767               1\n",
       "28       user_56_prob_2872               1\n",
       "29     user_1691_prob_5781               1\n",
       "...                    ...             ...\n",
       "66525  user_2183_prob_4979               2\n",
       "66526  user_1279_prob_3204               2\n",
       "66527  user_1959_prob_5555               1\n",
       "66528   user_362_prob_3413               2\n",
       "66529  user_1377_prob_6368               1\n",
       "66530   user_913_prob_6321               1\n",
       "66531  user_2944_prob_3647               2\n",
       "66532   user_1756_prob_612               1\n",
       "66533  user_3005_prob_1431               1\n",
       "66534  user_2602_prob_4672               1\n",
       "66535   user_394_prob_6304               1\n",
       "66536   user_519_prob_4125               1\n",
       "66537  user_3033_prob_4425               1\n",
       "66538   user_764_prob_1534               1\n",
       "66539     user_196_prob_32               1\n",
       "66540   user_238_prob_2754               1\n",
       "66541   user_926_prob_5642               1\n",
       "66542  user_2032_prob_4060               1\n",
       "66543  user_2008_prob_3935               1\n",
       "66544   user_705_prob_5206               1\n",
       "66545  user_1974_prob_3847               1\n",
       "66546  user_2650_prob_2461               1\n",
       "66547  user_3549_prob_2494               1\n",
       "66548  user_1090_prob_4132               1\n",
       "66549   user_315_prob_5406               1\n",
       "66550  user_1551_prob_2949               1\n",
       "66551  user_2617_prob_6266               1\n",
       "66552   user_799_prob_1800               1\n",
       "66553   user_1265_prob_137               1\n",
       "66554   user_474_prob_6497               1\n",
       "\n",
       "[66555 rows x 2 columns]"
      ]
     },
     "execution_count": 133,
     "metadata": {},
     "output_type": "execute_result"
    }
   ],
   "source": [
    "newsb"
   ]
  },
  {
   "cell_type": "code",
   "execution_count": 134,
   "metadata": {},
   "outputs": [
    {
     "data": {
      "text/plain": [
       "1    62694\n",
       "2     3861\n",
       "Name: attempts_range, dtype: int64"
      ]
     },
     "execution_count": 134,
     "metadata": {},
     "output_type": "execute_result"
    }
   ],
   "source": [
    "samplesub['attempts_range'].value_counts()"
   ]
  },
  {
   "cell_type": "code",
   "execution_count": null,
   "metadata": {},
   "outputs": [],
   "source": []
  }
 ],
 "metadata": {
  "kernelspec": {
   "display_name": "Python 3",
   "language": "python",
   "name": "python3"
  },
  "language_info": {
   "codemirror_mode": {
    "name": "ipython",
    "version": 3
   },
   "file_extension": ".py",
   "mimetype": "text/x-python",
   "name": "python",
   "nbconvert_exporter": "python",
   "pygments_lexer": "ipython3",
   "version": "3.6.4"
  }
 },
 "nbformat": 4,
 "nbformat_minor": 2
}
