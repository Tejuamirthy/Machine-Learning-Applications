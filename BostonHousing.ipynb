{
 "cells": [
  {
   "cell_type": "code",
   "execution_count": 14,
   "metadata": {},
   "outputs": [],
   "source": [
    "import pandas as pd\n",
    "import numpy as np"
   ]
  },
  {
   "cell_type": "code",
   "execution_count": 15,
   "metadata": {},
   "outputs": [],
   "source": [
    "traindata = pd.read_csv('C:/Users/Teju/Downloads/Datasets and details/train.csv')\n",
    "testdata  = pd.read_csv('C:/Users/Teju/Downloads/Datasets and details/test.csv')"
   ]
  },
  {
   "cell_type": "code",
   "execution_count": 16,
   "metadata": {},
   "outputs": [
    {
     "data": {
      "text/plain": [
       "(173, 14)"
      ]
     },
     "execution_count": 16,
     "metadata": {},
     "output_type": "execute_result"
    }
   ],
   "source": [
    "testdata.shape"
   ]
  },
  {
   "cell_type": "code",
   "execution_count": 17,
   "metadata": {},
   "outputs": [
    {
     "data": {
      "text/plain": [
       "<bound method DataFrame.info of    ID     crim    zn  indus  chas    nox     rm   age     dis  rad  tax  \\\n",
       "0   1  0.00632  18.0   2.31     0  0.538  6.575  65.2  4.0900    1  296   \n",
       "1   2  0.02731   0.0   7.07     0  0.469  6.421  78.9  4.9671    2  242   \n",
       "2   4  0.03237   0.0   2.18     0  0.458  6.998  45.8  6.0622    3  222   \n",
       "3   5  0.06905   0.0   2.18     0  0.458  7.147  54.2  6.0622    3  222   \n",
       "4   7  0.08829  12.5   7.87     0  0.524  6.012  66.6  5.5605    5  311   \n",
       "\n",
       "   ptratio   black  lstat  medv  \n",
       "0     15.3  396.90   4.98  24.0  \n",
       "1     17.8  396.90   9.14  21.6  \n",
       "2     18.7  394.63   2.94  33.4  \n",
       "3     18.7  396.90   5.33  36.2  \n",
       "4     15.2  395.60  12.43  22.9  >"
      ]
     },
     "execution_count": 17,
     "metadata": {},
     "output_type": "execute_result"
    }
   ],
   "source": [
    "traindata.head().info"
   ]
  },
  {
   "cell_type": "code",
   "execution_count": 27,
   "metadata": {},
   "outputs": [
    {
     "data": {
      "text/html": [
       "<div>\n",
       "<style scoped>\n",
       "    .dataframe tbody tr th:only-of-type {\n",
       "        vertical-align: middle;\n",
       "    }\n",
       "\n",
       "    .dataframe tbody tr th {\n",
       "        vertical-align: top;\n",
       "    }\n",
       "\n",
       "    .dataframe thead th {\n",
       "        text-align: right;\n",
       "    }\n",
       "</style>\n",
       "<table border=\"1\" class=\"dataframe\">\n",
       "  <thead>\n",
       "    <tr style=\"text-align: right;\">\n",
       "      <th></th>\n",
       "      <th>ID</th>\n",
       "      <th>crim</th>\n",
       "      <th>zn</th>\n",
       "      <th>indus</th>\n",
       "      <th>chas</th>\n",
       "      <th>nox</th>\n",
       "      <th>rm</th>\n",
       "      <th>age</th>\n",
       "      <th>dis</th>\n",
       "      <th>rad</th>\n",
       "      <th>tax</th>\n",
       "      <th>ptratio</th>\n",
       "      <th>black</th>\n",
       "      <th>lstat</th>\n",
       "      <th>medv</th>\n",
       "    </tr>\n",
       "  </thead>\n",
       "  <tbody>\n",
       "    <tr>\n",
       "      <th>count</th>\n",
       "      <td>333.000000</td>\n",
       "      <td>333.000000</td>\n",
       "      <td>333.000000</td>\n",
       "      <td>333.000000</td>\n",
       "      <td>333.000000</td>\n",
       "      <td>333.000000</td>\n",
       "      <td>333.000000</td>\n",
       "      <td>333.000000</td>\n",
       "      <td>333.000000</td>\n",
       "      <td>333.000000</td>\n",
       "      <td>333.000000</td>\n",
       "      <td>333.000000</td>\n",
       "      <td>333.000000</td>\n",
       "      <td>333.000000</td>\n",
       "      <td>333.000000</td>\n",
       "    </tr>\n",
       "    <tr>\n",
       "      <th>mean</th>\n",
       "      <td>250.951952</td>\n",
       "      <td>3.360341</td>\n",
       "      <td>10.689189</td>\n",
       "      <td>11.293483</td>\n",
       "      <td>0.060060</td>\n",
       "      <td>0.557144</td>\n",
       "      <td>6.265619</td>\n",
       "      <td>68.226426</td>\n",
       "      <td>3.709934</td>\n",
       "      <td>9.633634</td>\n",
       "      <td>409.279279</td>\n",
       "      <td>18.448048</td>\n",
       "      <td>359.466096</td>\n",
       "      <td>12.515435</td>\n",
       "      <td>22.768769</td>\n",
       "    </tr>\n",
       "    <tr>\n",
       "      <th>std</th>\n",
       "      <td>147.859438</td>\n",
       "      <td>7.352272</td>\n",
       "      <td>22.674762</td>\n",
       "      <td>6.998123</td>\n",
       "      <td>0.237956</td>\n",
       "      <td>0.114955</td>\n",
       "      <td>0.703952</td>\n",
       "      <td>28.133344</td>\n",
       "      <td>1.981123</td>\n",
       "      <td>8.742174</td>\n",
       "      <td>170.841988</td>\n",
       "      <td>2.151821</td>\n",
       "      <td>86.584567</td>\n",
       "      <td>7.067781</td>\n",
       "      <td>9.173468</td>\n",
       "    </tr>\n",
       "    <tr>\n",
       "      <th>min</th>\n",
       "      <td>1.000000</td>\n",
       "      <td>0.006320</td>\n",
       "      <td>0.000000</td>\n",
       "      <td>0.740000</td>\n",
       "      <td>0.000000</td>\n",
       "      <td>0.385000</td>\n",
       "      <td>3.561000</td>\n",
       "      <td>6.000000</td>\n",
       "      <td>1.129600</td>\n",
       "      <td>1.000000</td>\n",
       "      <td>188.000000</td>\n",
       "      <td>12.600000</td>\n",
       "      <td>3.500000</td>\n",
       "      <td>1.730000</td>\n",
       "      <td>5.000000</td>\n",
       "    </tr>\n",
       "    <tr>\n",
       "      <th>25%</th>\n",
       "      <td>123.000000</td>\n",
       "      <td>0.078960</td>\n",
       "      <td>0.000000</td>\n",
       "      <td>5.130000</td>\n",
       "      <td>0.000000</td>\n",
       "      <td>0.453000</td>\n",
       "      <td>5.884000</td>\n",
       "      <td>45.400000</td>\n",
       "      <td>2.122400</td>\n",
       "      <td>4.000000</td>\n",
       "      <td>279.000000</td>\n",
       "      <td>17.400000</td>\n",
       "      <td>376.730000</td>\n",
       "      <td>7.180000</td>\n",
       "      <td>17.400000</td>\n",
       "    </tr>\n",
       "    <tr>\n",
       "      <th>50%</th>\n",
       "      <td>244.000000</td>\n",
       "      <td>0.261690</td>\n",
       "      <td>0.000000</td>\n",
       "      <td>9.900000</td>\n",
       "      <td>0.000000</td>\n",
       "      <td>0.538000</td>\n",
       "      <td>6.202000</td>\n",
       "      <td>76.700000</td>\n",
       "      <td>3.092300</td>\n",
       "      <td>5.000000</td>\n",
       "      <td>330.000000</td>\n",
       "      <td>19.000000</td>\n",
       "      <td>392.050000</td>\n",
       "      <td>10.970000</td>\n",
       "      <td>21.600000</td>\n",
       "    </tr>\n",
       "    <tr>\n",
       "      <th>75%</th>\n",
       "      <td>377.000000</td>\n",
       "      <td>3.678220</td>\n",
       "      <td>12.500000</td>\n",
       "      <td>18.100000</td>\n",
       "      <td>0.000000</td>\n",
       "      <td>0.631000</td>\n",
       "      <td>6.595000</td>\n",
       "      <td>93.800000</td>\n",
       "      <td>5.116700</td>\n",
       "      <td>24.000000</td>\n",
       "      <td>666.000000</td>\n",
       "      <td>20.200000</td>\n",
       "      <td>396.240000</td>\n",
       "      <td>16.420000</td>\n",
       "      <td>25.000000</td>\n",
       "    </tr>\n",
       "    <tr>\n",
       "      <th>max</th>\n",
       "      <td>506.000000</td>\n",
       "      <td>73.534100</td>\n",
       "      <td>100.000000</td>\n",
       "      <td>27.740000</td>\n",
       "      <td>1.000000</td>\n",
       "      <td>0.871000</td>\n",
       "      <td>8.725000</td>\n",
       "      <td>100.000000</td>\n",
       "      <td>10.710300</td>\n",
       "      <td>24.000000</td>\n",
       "      <td>711.000000</td>\n",
       "      <td>21.200000</td>\n",
       "      <td>396.900000</td>\n",
       "      <td>37.970000</td>\n",
       "      <td>50.000000</td>\n",
       "    </tr>\n",
       "  </tbody>\n",
       "</table>\n",
       "</div>"
      ],
      "text/plain": [
       "               ID        crim          zn       indus        chas         nox  \\\n",
       "count  333.000000  333.000000  333.000000  333.000000  333.000000  333.000000   \n",
       "mean   250.951952    3.360341   10.689189   11.293483    0.060060    0.557144   \n",
       "std    147.859438    7.352272   22.674762    6.998123    0.237956    0.114955   \n",
       "min      1.000000    0.006320    0.000000    0.740000    0.000000    0.385000   \n",
       "25%    123.000000    0.078960    0.000000    5.130000    0.000000    0.453000   \n",
       "50%    244.000000    0.261690    0.000000    9.900000    0.000000    0.538000   \n",
       "75%    377.000000    3.678220   12.500000   18.100000    0.000000    0.631000   \n",
       "max    506.000000   73.534100  100.000000   27.740000    1.000000    0.871000   \n",
       "\n",
       "               rm         age         dis         rad         tax     ptratio  \\\n",
       "count  333.000000  333.000000  333.000000  333.000000  333.000000  333.000000   \n",
       "mean     6.265619   68.226426    3.709934    9.633634  409.279279   18.448048   \n",
       "std      0.703952   28.133344    1.981123    8.742174  170.841988    2.151821   \n",
       "min      3.561000    6.000000    1.129600    1.000000  188.000000   12.600000   \n",
       "25%      5.884000   45.400000    2.122400    4.000000  279.000000   17.400000   \n",
       "50%      6.202000   76.700000    3.092300    5.000000  330.000000   19.000000   \n",
       "75%      6.595000   93.800000    5.116700   24.000000  666.000000   20.200000   \n",
       "max      8.725000  100.000000   10.710300   24.000000  711.000000   21.200000   \n",
       "\n",
       "            black       lstat        medv  \n",
       "count  333.000000  333.000000  333.000000  \n",
       "mean   359.466096   12.515435   22.768769  \n",
       "std     86.584567    7.067781    9.173468  \n",
       "min      3.500000    1.730000    5.000000  \n",
       "25%    376.730000    7.180000   17.400000  \n",
       "50%    392.050000   10.970000   21.600000  \n",
       "75%    396.240000   16.420000   25.000000  \n",
       "max    396.900000   37.970000   50.000000  "
      ]
     },
     "execution_count": 27,
     "metadata": {},
     "output_type": "execute_result"
    }
   ],
   "source": [
    "traindata.describe()"
   ]
  },
  {
   "cell_type": "code",
   "execution_count": 19,
   "metadata": {},
   "outputs": [],
   "source": [
    "features = traindata.columns"
   ]
  },
  {
   "cell_type": "code",
   "execution_count": 20,
   "metadata": {},
   "outputs": [
    {
     "data": {
      "text/plain": [
       "ID         False\n",
       "crim       False\n",
       "zn         False\n",
       "indus      False\n",
       "chas       False\n",
       "nox        False\n",
       "rm         False\n",
       "age        False\n",
       "dis        False\n",
       "rad        False\n",
       "tax        False\n",
       "ptratio    False\n",
       "black      False\n",
       "lstat      False\n",
       "medv       False\n",
       "dtype: bool"
      ]
     },
     "execution_count": 20,
     "metadata": {},
     "output_type": "execute_result"
    }
   ],
   "source": [
    "traindata[features].isnull().any()"
   ]
  },
  {
   "cell_type": "code",
   "execution_count": 21,
   "metadata": {},
   "outputs": [],
   "source": [
    "from sklearn.ensemble import RandomForestRegressor\n",
    "model = RandomForestRegressor(random_state=1)\n",
    "model2 = RandomForestRegressor(random_state=2)"
   ]
  },
  {
   "cell_type": "markdown",
   "metadata": {},
   "source": []
  },
  {
   "cell_type": "code",
   "execution_count": 9,
   "metadata": {},
   "outputs": [
    {
     "data": {
      "text/plain": [
       "'\"train_y = traindata.iloc[0:250,14]\\ntrain_X = traindata.iloc[0:250,0:14]\\ntest_X = traindata.iloc[251:332,0:14]\\ntest_y = traindata.iloc[251:332,14]'"
      ]
     },
     "execution_count": 9,
     "metadata": {},
     "output_type": "execute_result"
    }
   ],
   "source": [
    "\"\"\"\"train_y = traindata.iloc[0:250,14]\n",
    "train_X = traindata.iloc[0:250,0:14]\n",
    "test_X = traindata.iloc[251:332,0:14]\n",
    "test_y = traindata.iloc[251:332,14]\"\"\""
   ]
  },
  {
   "cell_type": "code",
   "execution_count": 29,
   "metadata": {},
   "outputs": [
    {
     "data": {
      "text/plain": [
       "RandomForestRegressor(bootstrap=True, criterion='mse', max_depth=None,\n",
       "           max_features='auto', max_leaf_nodes=None,\n",
       "           min_impurity_decrease=0.0, min_impurity_split=None,\n",
       "           min_samples_leaf=1, min_samples_split=2,\n",
       "           min_weight_fraction_leaf=0.0, n_estimators=10, n_jobs=1,\n",
       "           oob_score=False, random_state=2, verbose=0, warm_start=False)"
      ]
     },
     "execution_count": 29,
     "metadata": {},
     "output_type": "execute_result"
    }
   ],
   "source": [
    "featuresinm = ['crim','chas','nox','rm','age','dis','rad','tax','ptratio','lstat']\n",
    "model.fit(traindata.iloc[:,0:14],traindata['medv'])\n",
    "model2.fit(traindata.iloc[:,0:14],traindata['medv'])"
   ]
  },
  {
   "cell_type": "code",
   "execution_count": 30,
   "metadata": {},
   "outputs": [
    {
     "data": {
      "text/plain": [
       "array([1.29547164e-02, 5.72246490e-02, 1.04501385e-03, 6.51667262e-03,\n",
       "       3.43009884e-04, 1.35170765e-02, 4.70121595e-01, 1.42697754e-02,\n",
       "       4.42360680e-02, 4.68410712e-03, 1.19058936e-02, 1.07060382e-02,\n",
       "       1.25215852e-02, 3.39953799e-01])"
      ]
     },
     "execution_count": 30,
     "metadata": {},
     "output_type": "execute_result"
    }
   ],
   "source": [
    "model.feature_importances_\n",
    "model2.feature_importances_"
   ]
  },
  {
   "cell_type": "markdown",
   "metadata": {},
   "source": [
    "As this dataset is from a competition there was no result"
   ]
  },
  {
   "cell_type": "code",
   "execution_count": 31,
   "metadata": {},
   "outputs": [],
   "source": [
    "#model.score(testdata[featuresinm],testdata['medv'])\n",
    "#model2.score(testdata[featuresinm],testdata['medv'])\n"
   ]
  },
  {
   "cell_type": "code",
   "execution_count": 32,
   "metadata": {},
   "outputs": [
    {
     "data": {
      "text/plain": [
       "Index(['ID', 'crim', 'zn', 'indus', 'chas', 'nox', 'rm', 'age', 'dis', 'rad',\n",
       "       'tax', 'ptratio', 'black', 'lstat', 'medv'],\n",
       "      dtype='object')"
      ]
     },
     "execution_count": 32,
     "metadata": {},
     "output_type": "execute_result"
    }
   ],
   "source": [
    "traindata.columns"
   ]
  },
  {
   "cell_type": "code",
   "execution_count": 34,
   "metadata": {},
   "outputs": [],
   "source": [
    "y=model.predict(testdata)\n",
    "y2 = model2.predict(testdata)"
   ]
  },
  {
   "cell_type": "code",
   "execution_count": 35,
   "metadata": {},
   "outputs": [
    {
     "name": "stdout",
     "output_type": "stream",
     "text": [
      "<class 'pandas.core.frame.DataFrame'>\n",
      "RangeIndex: 333 entries, 0 to 332\n",
      "Data columns (total 10 columns):\n",
      "crim       333 non-null float64\n",
      "chas       333 non-null int64\n",
      "nox        333 non-null float64\n",
      "rm         333 non-null float64\n",
      "age        333 non-null float64\n",
      "dis        333 non-null float64\n",
      "rad        333 non-null int64\n",
      "tax        333 non-null int64\n",
      "ptratio    333 non-null float64\n",
      "lstat      333 non-null float64\n",
      "dtypes: float64(7), int64(3)\n",
      "memory usage: 26.1 KB\n"
     ]
    }
   ],
   "source": [
    "from sklearn.svm import SVR\n",
    "from sklearn.model_selection import GridSearchCV\n",
    "from sklearn import preprocessing\n",
    "from sklearn.preprocessing import StandardScaler as ss\n",
    "\n",
    "traindata[featuresinm].info()"
   ]
  },
  {
   "cell_type": "code",
   "execution_count": 36,
   "metadata": {},
   "outputs": [],
   "source": [
    "c = [0.05,0.1,0.5,1,10]\n",
    "gamma = [0.01,0.1,0.5]\n",
    "kern = ['rbf','linear']\n",
    "params = {'C':c,'gamma':gamma,'kernel':kern}\n",
    "svm = GridSearchCV(SVR(),params)\n"
   ]
  },
  {
   "cell_type": "code",
   "execution_count": 37,
   "metadata": {},
   "outputs": [
    {
     "data": {
      "text/plain": [
       "GridSearchCV(cv=None, error_score='raise',\n",
       "       estimator=SVR(C=1.0, cache_size=200, coef0=0.0, degree=3, epsilon=0.1, gamma='auto',\n",
       "  kernel='rbf', max_iter=-1, shrinking=True, tol=0.001, verbose=False),\n",
       "       fit_params=None, iid=True, n_jobs=1,\n",
       "       param_grid={'C': [0.05, 0.1, 0.5, 1, 10], 'gamma': [0.01, 0.1, 0.5], 'kernel': ['rbf', 'linear']},\n",
       "       pre_dispatch='2*n_jobs', refit=True, return_train_score='warn',\n",
       "       scoring=None, verbose=0)"
      ]
     },
     "execution_count": 37,
     "metadata": {},
     "output_type": "execute_result"
    }
   ],
   "source": [
    "#svm = SVR(kernel = 'rbf',gamma = 0.1, C = 1 )\n",
    "svm.fit(traindata.iloc[:,0:14], traindata['medv'])\n"
   ]
  },
  {
   "cell_type": "code",
   "execution_count": 39,
   "metadata": {},
   "outputs": [],
   "source": [
    "y3=svm.predict(testdata)"
   ]
  },
  {
   "cell_type": "code",
   "execution_count": 43,
   "metadata": {},
   "outputs": [],
   "source": [
    "submissionsvm = pd.DataFrame({'ID':testdata['ID'],'medv':y3})\n",
    "submissionsvm.to_csv('submissionsvm.csv',index= False)"
   ]
  },
  {
   "cell_type": "code",
   "execution_count": 41,
   "metadata": {},
   "outputs": [
    {
     "data": {
      "text/plain": [
       "array([28.0948031 , 25.22178698, 18.14218854, 10.56974839, 18.43132833,\n",
       "       17.83150888, 20.1958871 , 16.46901669, 14.95758905, 16.74403507,\n",
       "       19.29673086, 20.3264076 ,  8.65156405, 15.1709793 , 23.88027715,\n",
       "       22.59374254, 24.07353578, 27.19066292,  8.062632  , 27.32828011,\n",
       "       22.37531344, 24.01064685, 21.29841227, 21.36595205, 19.4603447 ,\n",
       "       21.77753261, 25.96666622, 26.04413507, 27.10554797, 26.57154573,\n",
       "       30.37861621, 30.96777973, 28.40225916, 20.72952268, 18.03471011,\n",
       "       20.54814461, 19.60168814, 19.11187936, 19.31554645, 21.10081093,\n",
       "       14.85694498, 19.3288589 , 19.7431646 , 16.54273761, 12.58379038,\n",
       "       15.01929601, 12.6072749 , 18.67453518, 22.06587196, 22.7672237 ,\n",
       "       19.96619939, 29.60968149, 32.98660004, 23.77501337, 22.22477393,\n",
       "       23.54270135, 30.91193459, 37.1416743 , 33.44359871, 31.79353682,\n",
       "       30.11814108, 34.53462361, 16.98922161, 13.89539821, 18.41196387,\n",
       "       19.75196121, 23.69820339, 25.6038682 , 20.54842805, 25.0702766 ,\n",
       "       27.17930543, 31.76856227, 29.22322692, 29.13014187, 27.40172169,\n",
       "       26.65667664, 22.44625693, 13.83129695, 19.33949361, 24.72508194,\n",
       "       25.27365251, 23.55070053, 34.80092879, 37.35414898, 33.24469646,\n",
       "       32.96737619, 34.90411077, 22.74021805, 22.30971108, 31.88092741,\n",
       "       30.34788451, 31.0893824 , 29.11074865, 33.28283726, 26.63600676,\n",
       "       25.65103716, 32.98972762, 22.34134084, 25.49973852, 28.87457875,\n",
       "       30.29157752, 28.83238322, 30.24639732, 24.54447327, 23.75582621,\n",
       "       21.00110318, 24.202967  , 23.04579524, 19.6735847 , 23.94231253,\n",
       "       23.51449856, 20.79476419, 23.78479106, 22.16861614, 20.41816659,\n",
       "       16.97507646, 15.23861893, 21.63716973, 21.69138132, 26.64577206,\n",
       "       19.05650482, 20.91887902, 19.61539505, 19.54121449, 29.88922453,\n",
       "       28.05219804, 22.39107685, 14.58929997, 15.67154754, 16.13870967,\n",
       "       16.58239223,  8.88907925,  8.03742808, 17.62099795, 19.68223915,\n",
       "       18.8712679 , 16.24220816, 10.23470029, 16.72772719,  9.35949993,\n",
       "       11.44472479, 11.29953447, 15.64150064, 16.07239205, 12.92299234,\n",
       "        1.61484178, 10.22281652, 18.92885569, 18.16564559, 18.06140342,\n",
       "       10.50107545, 15.01197268, 14.95344816, 11.94225996, 13.91852812,\n",
       "        4.36565359, 17.17540223, 16.02505678, 14.4585065 , 13.3731594 ,\n",
       "       12.30626572, 17.81171806, 22.40114669, 12.78333352, 24.30724548,\n",
       "       20.79292744,  7.32820827, 20.92122773, 17.85905309, 14.63739228,\n",
       "       21.06192938, 19.90090635, 24.678935  ])"
      ]
     },
     "execution_count": 41,
     "metadata": {},
     "output_type": "execute_result"
    }
   ],
   "source": [
    "y3"
   ]
  },
  {
   "cell_type": "code",
   "execution_count": 44,
   "metadata": {},
   "outputs": [
    {
     "data": {
      "text/plain": [
       "array([33.15, 24.71, 16.59, 15.33, 17.45, 18.93, 19.73, 15.65, 14.63,\n",
       "       18.68, 18.29, 19.91, 14.19, 15.1 , 20.29, 20.19, 21.79, 29.95,\n",
       "       17.47, 25.78, 21.27, 23.61, 20.73, 21.65, 21.39, 20.59, 24.31,\n",
       "       22.43, 22.65, 28.1 , 45.52, 46.11, 30.48, 19.67, 18.46, 20.67,\n",
       "       18.09, 17.36, 19.35, 20.38, 15.9 , 20.02, 19.42, 16.69, 15.01,\n",
       "       14.15, 15.46, 14.34, 19.77, 20.21, 17.2 , 33.12, 45.06, 21.34,\n",
       "       22.61, 23.47, 30.5 , 47.23, 32.06, 30.7 , 32.3 , 40.12, 21.07,\n",
       "       18.58, 19.07, 20.98, 25.  , 25.89, 18.32, 22.32, 29.77, 40.88,\n",
       "       31.66, 33.58, 24.32, 26.77, 21.79, 21.23, 20.28, 32.66, 21.68,\n",
       "       20.2 , 37.74, 46.4 , 34.13, 30.47, 44.16, 21.53, 20.81, 30.57,\n",
       "       34.35, 31.38, 24.52, 47.3 , 23.51, 26.79, 34.8 , 22.48, 27.56,\n",
       "       24.3 , 31.22, 28.07, 28.82, 22.74, 25.08, 21.62, 24.17, 22.62,\n",
       "       19.94, 24.39, 23.89, 19.12, 21.47, 21.8 , 20.34, 21.59, 20.53,\n",
       "       23.78, 26.35, 29.21, 21.69, 22.34, 20.66, 18.38, 43.37, 38.48,\n",
       "       34.38, 12.86, 12.83, 19.48, 12.87,  7.43,  7.51, 16.71, 17.55,\n",
       "       14.73, 14.  , 10.92, 11.93,  7.93,  6.84, 12.16, 14.  , 24.46,\n",
       "       12.76, 13.89, 10.71, 15.71, 17.9 , 19.96, 14.07, 16.16, 14.43,\n",
       "       11.89, 12.67,  9.23, 16.46, 16.  , 14.36, 13.95, 15.04, 17.27,\n",
       "       28.27, 16.47, 31.83, 21.56, 11.08, 20.24, 19.43, 17.48, 20.68,\n",
       "       19.6 , 26.24])"
      ]
     },
     "execution_count": 44,
     "metadata": {},
     "output_type": "execute_result"
    }
   ],
   "source": [
    "y2"
   ]
  },
  {
   "cell_type": "code",
   "execution_count": 45,
   "metadata": {},
   "outputs": [
    {
     "data": {
      "text/plain": [
       "array([33.37, 24.22, 18.03, 13.84, 19.58, 20.28, 19.51, 15.37, 16.29,\n",
       "       17.3 , 18.32, 22.51, 18.34, 15.25, 21.69, 21.52, 21.73, 30.73,\n",
       "       15.51, 25.02, 22.13, 23.55, 21.59, 20.9 , 20.82, 21.41, 23.52,\n",
       "       21.63, 22.82, 28.95, 44.48, 45.76, 28.51, 20.52, 18.03, 22.54,\n",
       "       18.37, 17.84, 19.35, 19.37, 15.27, 19.45, 19.95, 17.44, 16.23,\n",
       "       14.16, 15.12, 14.88, 21.81, 20.77, 18.81, 28.92, 47.1 , 22.07,\n",
       "       18.2 , 23.62, 29.04, 47.38, 32.7 , 31.18, 32.71, 44.25, 21.14,\n",
       "       17.81, 19.5 , 21.12, 23.86, 24.13, 20.  , 22.6 , 27.45, 44.6 ,\n",
       "       35.68, 32.99, 23.8 , 26.95, 21.96, 20.59, 21.71, 31.51, 21.4 ,\n",
       "       20.  , 43.55, 44.58, 31.53, 28.11, 42.61, 21.87, 20.79, 31.68,\n",
       "       34.59, 30.95, 24.18, 47.39, 23.07, 26.14, 35.14, 21.4 , 27.74,\n",
       "       24.  , 34.1 , 30.17, 30.83, 21.94, 23.5 , 22.18, 24.36, 23.53,\n",
       "       18.54, 24.85, 24.79, 19.51, 19.38, 21.01, 20.63, 20.31, 18.85,\n",
       "       20.8 , 26.69, 29.96, 19.34, 23.  , 21.66, 19.15, 41.84, 42.98,\n",
       "       34.15, 11.92, 12.79, 21.93, 11.46,  9.3 ,  9.58, 14.83, 17.05,\n",
       "       13.96, 13.58, 12.42, 11.81,  7.75,  8.52, 12.09, 19.61, 23.79,\n",
       "       13.62, 13.72,  9.58, 17.29, 18.  , 20.89, 13.5 , 16.68, 13.51,\n",
       "       12.08, 11.95,  8.97, 15.17, 15.12, 14.09, 13.68, 17.03, 18.04,\n",
       "       28.41, 16.19, 32.75, 21.7 , 14.8 , 21.63, 18.15, 17.7 , 21.9 ,\n",
       "       20.8 , 25.  ])"
      ]
     },
     "execution_count": 45,
     "metadata": {},
     "output_type": "execute_result"
    }
   ],
   "source": [
    "y"
   ]
  },
  {
   "cell_type": "code",
   "execution_count": null,
   "metadata": {},
   "outputs": [],
   "source": []
  }
 ],
 "metadata": {
  "kernelspec": {
   "display_name": "Python 3",
   "language": "python",
   "name": "python3"
  },
  "language_info": {
   "codemirror_mode": {
    "name": "ipython",
    "version": 3
   },
   "file_extension": ".py",
   "mimetype": "text/x-python",
   "name": "python",
   "nbconvert_exporter": "python",
   "pygments_lexer": "ipython3",
   "version": "3.6.4"
  }
 },
 "nbformat": 4,
 "nbformat_minor": 2
}
